{
 "cells": [
  {
   "cell_type": "code",
   "execution_count": null,
   "id": "c9d82893",
   "metadata": {},
   "outputs": [
    {
     "name": "stdout",
     "output_type": "stream",
     "text": [
      "Nhập tọa độ x của điểm thứ nhất: 134\n",
      "Nhập tọa độ y của điểm thứ nhất: 24\n",
      "Nhập tọa độ x của điểm thứ hai: 266\n",
      "Nhập tọa độ y của điểm thứ hai: 25\n",
      "Nhập tọa độ x của điểm thứ ba: 44\n",
      "Nhập tọa độ y của điểm thứ ba: 44\n",
      "Tọa độ điểm cần tìm:  ( 176 ; 45 )\n",
      "Tọa độ điểm cần tìm:  ( -88 ; 43 )\n",
      "Tọa độ điểm cần tìm:  ( 356 ; 5 )\n"
     ]
    }
   ],
   "source": [
    "#Tọa độ điểm thứ nhất\n",
    "a1=int(input(\"Nhập tọa độ x của điểm thứ nhất: \"))\n",
    "a2=int(input(\"Nhập tọa độ y của điểm thứ nhất: \"))\n",
    "#Tọa độ điểm thứ hai \n",
    "b1=int(input(\"Nhập tọa độ x của điểm thứ hai: \"))\n",
    "b2=int(input(\"Nhập tọa độ y của điểm thứ hai: \"))\n",
    "#Tọa độ điểm thứ ba \n",
    "c1=int(input(\"Nhập tọa độ x của điểm thứ ba: \"))\n",
    "c2=int(input(\"Nhập tọa độ y của điểm thứ ba: \"))\n",
    "\n",
    "#\n",
    "x=c1-a1+b1\n",
    "y=c2-a2+b2\n",
    "print(\"Tọa độ điểm cần tìm: \",\"(\",x,\";\",y,\")\")\n",
    "\n",
    "x1=c1+a1-b1\n",
    "y1=c2+a2-b2\n",
    "\n",
    "print(\"Tọa độ điểm cần tìm: \",\"(\",x1,\";\",y1,\")\")\n",
    "\n",
    "x2=b1-c1+a1\n",
    "y2=b2-c2+a2\n",
    "\n",
    "print(\"Tọa độ điểm cần tìm: \",\"(\",x2,\";\",y2,\")\")\n",
    "\n",
    "\n",
    "import turtle\n",
    "screen=turtle.Screen()\n",
    "screen.bgcolor('lightblue') # màu background \n",
    "p=turtle.Turtle()\n",
    "p.shape()\n",
    "p.pensize()\n",
    "p.hideturtle()\n",
    "\n",
    "p.penup()\n",
    "p.goto(a1,a2)\n",
    "p.pendown()\n",
    "p.dot(10,\"green\")\n",
    "\n",
    "p.penup()\n",
    "p.goto(b1,b2)\n",
    "p.pendown()\n",
    "p.dot(10,\"green\")\n",
    "\n",
    "p.penup()\n",
    "p.goto(c1,c2)\n",
    "p.pendown()\n",
    "p.dot(10,\"green\")\n",
    "\n",
    "p.penup()\n",
    "p.goto(x,y)\n",
    "p.pendown()\n",
    "p.dot(10,\"blue\")\n",
    "\n",
    "p.penup()\n",
    "p.goto(x1,y1)\n",
    "p.pendown()\n",
    "p.dot(10,\"blue\")\n",
    "\n",
    "p.penup()\n",
    "p.goto(x2,y2)\n",
    "p.pendown()\n",
    "p.dot(10,\"blue\")\n",
    "\n",
    "turtle.done()\n"
   ]
  },
  {
   "cell_type": "markdown",
   "id": "820c6e25",
   "metadata": {},
   "source": [
    "##### "
   ]
  },
  {
   "cell_type": "code",
   "execution_count": null,
   "id": "c410f329",
   "metadata": {},
   "outputs": [],
   "source": []
  },
  {
   "cell_type": "code",
   "execution_count": null,
   "id": "8019da34",
   "metadata": {},
   "outputs": [],
   "source": []
  },
  {
   "cell_type": "code",
   "execution_count": null,
   "id": "acc2b952",
   "metadata": {},
   "outputs": [],
   "source": []
  }
 ],
 "metadata": {
  "kernelspec": {
   "display_name": "Python 3 (ipykernel)",
   "language": "python",
   "name": "python3"
  },
  "language_info": {
   "codemirror_mode": {
    "name": "ipython",
    "version": 3
   },
   "file_extension": ".py",
   "mimetype": "text/x-python",
   "name": "python",
   "nbconvert_exporter": "python",
   "pygments_lexer": "ipython3",
   "version": "3.9.12"
  }
 },
 "nbformat": 4,
 "nbformat_minor": 5
}
