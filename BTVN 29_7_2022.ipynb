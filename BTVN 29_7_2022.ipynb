{
 "cells": [
  {
   "cell_type": "code",
   "execution_count": 2,
   "id": "62bdeed5",
   "metadata": {},
   "outputs": [
    {
     "name": "stdout",
     "output_type": "stream",
     "text": [
      "a= -1\n",
      "b= -1\n",
      "c= 0\n",
      "-x^2-x\n"
     ]
    }
   ],
   "source": [
    "a=int(input('a= '))\n",
    "b=int(input('b= '))\n",
    "c=int(input('c= '))\n",
    "\n",
    "if a==0:\n",
    "    if b==0:\n",
    "        if c==0:\n",
    "            print(c)\n",
    "        else:\n",
    "            print(f'{c}')\n",
    "    elif b==1:\n",
    "        if c==0:\n",
    "            print('x')\n",
    "        else:\n",
    "            print(f'x+{c}')\n",
    "    elif b==-1:\n",
    "        if c==0:\n",
    "            print('-x')\n",
    "        else:\n",
    "            print(f'-x+{c}')\n",
    "    else: \n",
    "        if c==0:\n",
    "            print(f'{b}x')\n",
    "        else:\n",
    "            print(f'{b}x+{c}')\n",
    "elif a==1:\n",
    "    if b==0:\n",
    "        if c==0:\n",
    "            print('x^2')\n",
    "        else:\n",
    "            print(f'x^2+{c}')\n",
    "    elif b==1:\n",
    "        if c==0:\n",
    "            print(x^2+x)\n",
    "        else:\n",
    "            print(f'x^2+x+{c}')\n",
    "    elif b==-1:\n",
    "        if c==0:\n",
    "            print('x^2-x')\n",
    "        else:\n",
    "            print(f'x^2-x+{c}')\n",
    "    else: \n",
    "        if c==0:\n",
    "            print(f'x^2+{b}x')\n",
    "        else:\n",
    "            print(f'x^2+{b}+{c}')\n",
    "\n",
    "elif a==-1:\n",
    "    if b==0:\n",
    "        if c==0:\n",
    "            print('-x^2')\n",
    "        else:\n",
    "            print(f'-x^2+{c}')\n",
    "    elif b==1:\n",
    "        if c==0:\n",
    "            print(-x^2+x)\n",
    "        else:\n",
    "            print(f'-x^2+{c}')\n",
    "    elif b==-1:\n",
    "        if c==0:\n",
    "            print('-x^2-x')\n",
    "        else:\n",
    "            print(f'-x^2-x+{c}')\n",
    "    else: \n",
    "        if c==0:\n",
    "            print(f'-x^2+{b}x')\n",
    "        else:\n",
    "            print(f'-x^2+{b}+{c}')\n",
    "else:\n",
    "    if b==0:\n",
    "        if c==0:\n",
    "            print('{a}x^2')\n",
    "        else:\n",
    "            print(f'{a}x^2+{c}')\n",
    "    elif b==1:\n",
    "        if c==0:\n",
    "            print(f'{a}x^2+x')\n",
    "        else:\n",
    "            print(f'{a}x^2+x+{c}')\n",
    "    elif b==-1:\n",
    "        if c==0:\n",
    "            print(f'{a}x^2-x')\n",
    "        else:\n",
    "            print(f'{a}x^2-x+{c}')\n",
    "    else: \n",
    "        if c==0:\n",
    "            print(f'{a}x^2+{b}x')\n",
    "        else:\n",
    "            print(f'{a}x^2+{b}+{c}') \n",
    "    "
   ]
  },
  {
   "cell_type": "code",
   "execution_count": 3,
   "id": "c2d3b78d",
   "metadata": {},
   "outputs": [
    {
     "name": "stdout",
     "output_type": "stream",
     "text": [
      "Số điện: 34\n",
      "Giá tiền điện là: 57052 VND\n"
     ]
    }
   ],
   "source": [
    "a=int(input('Số điện: '))\n",
    "if a>=0 and a<=50:\n",
    "    print(f'Giá tiền điện là: {1678*a} VND')\n",
    "elif a>50 and a<100:\n",
    "    print(f'Giá tiền điện là: {1734*a} VND')\n",
    "elif a>101 and a<200:\n",
    "    print(f'Giá tiền điện là: {2014*a} VND')\n",
    "elif a>201 and a<300:\n",
    "    print(f'Giá tiền điện là: {2536*a} VND')\n",
    "elif a>301 and a<400:\n",
    "    print(f'Giá tiền điện là: {2834*a} VND')\n",
    "elif a>401:\n",
    "    print(f'Giá tiền điện là: {2927*a} VND')\n",
    "else:\n",
    "    print('error')"
   ]
  },
  {
   "cell_type": "code",
   "execution_count": null,
   "id": "69962b09",
   "metadata": {},
   "outputs": [],
   "source": []
  },
  {
   "cell_type": "code",
   "execution_count": null,
   "id": "c7599610",
   "metadata": {},
   "outputs": [],
   "source": []
  }
 ],
 "metadata": {
  "kernelspec": {
   "display_name": "Python 3 (ipykernel)",
   "language": "python",
   "name": "python3"
  },
  "language_info": {
   "codemirror_mode": {
    "name": "ipython",
    "version": 3
   },
   "file_extension": ".py",
   "mimetype": "text/x-python",
   "name": "python",
   "nbconvert_exporter": "python",
   "pygments_lexer": "ipython3",
   "version": "3.9.12"
  }
 },
 "nbformat": 4,
 "nbformat_minor": 5
}
