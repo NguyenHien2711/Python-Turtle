{
 "cells": [
  {
   "cell_type": "code",
   "execution_count": 16,
   "id": "3ab41285",
   "metadata": {},
   "outputs": [
    {
     "name": "stdout",
     "output_type": "stream",
     "text": [
      "Nhập vào tổng tiền lương nhận được: 134\n",
      "Nhập vào khoản được miễn thuế: 24\n",
      "Nhập vào số người phụ thuộc: 1\n",
      "Thu nhập tính thuế là 94.6 triệu đồng\n"
     ]
    }
   ],
   "source": [
    "# Bài 1: Theo luật từ năm 2020 thì mức giảm trừ gia cảnh được áp dụng cho bản thân người đóng thuế là 11 triệu/tháng. \n",
    "#Mức áp dụng đối với người phụ thuộc là 4,4 triệu/tháng. \n",
    "#Thu nhập tính thuế thu nhập cá nhân là thu nhập còn lại sau khi tổng thu nhập đã trừ đi các tổng giảm trừ gia cảnh. \n",
    "#Nhập tổng thu nhập trong tháng của một người, số người phụ thuộc. Tính thu nhập tính thuế TNCN của người đó.\n",
    "\n",
    "#tongtienluongnhanduoc\n",
    "luong=int(input('Nhập vào tổng tiền lương nhận được: '))\n",
    "khoanmienthue=int(input('Nhập vào khoản được miễn thuế: '))\n",
    "\n",
    "#Giảm trừ gia cảnh đối với bản thân người nộp thuế\n",
    "a=11\n",
    "\n",
    "#số người phụ thuộc đối với mỗi người phụ thuộc\n",
    "b=int(input(\"Nhập vào số người phụ thuộc: \"))\n",
    "\n",
    "#Giảm trừ gia cảnh người phụ thuộc\n",
    "c=b*4.4\n",
    "\n",
    "#Thu nhập phải chịu thuế = Tổng tiền lương nhận được - Các khoản được miễn thuế.\n",
    "thunhapphaichiuthue= luong - khoanmienthue\n",
    "\n",
    "#Thu nhập tính thuế = Thu nhập phải chịu thuế - các khoản giảm trừ.\n",
    "thunhaptinhthue=thunhapphaichiuthue-a-c\n",
    "print(\"Thu nhập tính thuế là\",thunhaptinhthue,\"triệu đồng\" )\n",
    "\n",
    "\n",
    "\n"
   ]
  },
  {
   "cell_type": "markdown",
   "id": "81b3a3bc",
   "metadata": {},
   "source": []
  },
  {
   "cell_type": "code",
   "execution_count": null,
   "id": "7c8ec7a1",
   "metadata": {},
   "outputs": [],
   "source": []
  }
 ],
 "metadata": {
  "kernelspec": {
   "display_name": "Python 3 (ipykernel)",
   "language": "python",
   "name": "python3"
  },
  "language_info": {
   "codemirror_mode": {
    "name": "ipython",
    "version": 3
   },
   "file_extension": ".py",
   "mimetype": "text/x-python",
   "name": "python",
   "nbconvert_exporter": "python",
   "pygments_lexer": "ipython3",
   "version": "3.9.12"
  }
 },
 "nbformat": 4,
 "nbformat_minor": 5
}
