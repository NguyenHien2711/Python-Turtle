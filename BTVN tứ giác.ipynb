{
 "cells": [
  {
   "cell_type": "code",
   "execution_count": null,
   "id": "543bc655",
   "metadata": {},
   "outputs": [
    {
     "name": "stdout",
     "output_type": "stream",
     "text": [
      "Nhập Tọa độ x của điểm A= -100\n",
      "Nhập Tọa độ y của điểm A= 100\n",
      "Nhập Tọa độ x của điểm B= 100\n",
      "Nhập Tọa độ y của điểm B= 100\n",
      "Nhập Tọa độ x của điểm C= 100\n",
      "Nhập Tọa độ y của điểm C= -100\n",
      "Nhập Tọa độ x của điểm D= -100\n",
      "Nhập Tọa độ x của điểm D= -100\n",
      "Tứ giác lồi:  True\n",
      "Màu: blue\n"
     ]
    }
   ],
   "source": [
    "#Nhập toạ độ của 1 tứ giác. Lập biểu thức để kiểm tra tứ giác đó là một tứ giác lồi hay tứ giác lõm. \n",
    "#Vẽ tứ giác đó với màu bất kỳ nhập từ bàn phím\n",
    "#Hướng giải quyết: Kiểm tra 4 điểm có tạo thành tứ giác hay không(không có 3 điểm nào thẳng hàng), \n",
    "\n",
    "xa=int(input('Nhập Tọa độ x của điểm A= '))\n",
    "ya=int(input('Nhập Tọa độ y của điểm A= '))\n",
    "xb=int(input('Nhập Tọa độ x của điểm B= '))\n",
    "yb=int(input('Nhập Tọa độ y của điểm B= '))\n",
    "xc=int(input('Nhập Tọa độ x của điểm C= '))\n",
    "yc=int(input('Nhập Tọa độ y của điểm C= '))\n",
    "xd=int(input('Nhập Tọa độ x của điểm D= '))\n",
    "yd=int(input('Nhập Tọa độ x của điểm D= '))\n",
    "\n",
    "import math \n",
    "AB=math.sqrt((xb-xa)**2+(yb-ya)**2)\n",
    "BC=math.sqrt((xc-xb)**2+(yc-yb)**2)\n",
    "AC=math.sqrt((xc-xa)**2+(yc-ya)**2)\n",
    "CD=math.sqrt((xd-xc)**2+(yd-yc)**2)\n",
    "DA=math.sqrt((xa-xd)**2+(ya-yd)**2)\n",
    "BD=math.sqrt((xd-xb)**2+(yd-yb)**2)\n",
    "\n",
    "cosA=(AB**2+DA**2-BD**2)/(2*AB*DA)\n",
    "cosB=(AB**2+BC**2-AC**2)/(2*AB*BC)\n",
    "cosC=(BC**2+CD**2-BD**2)/(2*BC*CD)\n",
    "cosD=(DA**2+CD**2-AC**2)/(2*DA*CD)\n",
    "\n",
    "tugiacloi= (cosA>-1 and cosA<1) and (cosB>-1 and cosB<1) and (cosC>-1 and cosC<1) and (cosD>-1 and cosD<1)\n",
    "print('Tứ giác lồi: ', tugiacloi)\n",
    "\n",
    "color=input('Màu: ')\n",
    "import turtle \n",
    "t=turtle.Turtle()\n",
    "t.shape()\n",
    "t.pensize(1)\n",
    "t.pencolor(color)\n",
    "t.penup()\n",
    "t.goto(xa,ya)\n",
    "t.pendown()\n",
    "t.goto(xb,yb)\n",
    "t.goto(xc,yc)\n",
    "t.goto(xd,yd)\n",
    "t.goto(xa,ya)\n",
    "\n",
    "turtle.done()"
   ]
  },
  {
   "cell_type": "code",
   "execution_count": null,
   "id": "a46720f6",
   "metadata": {},
   "outputs": [],
   "source": []
  },
  {
   "cell_type": "code",
   "execution_count": null,
   "id": "292355a0",
   "metadata": {},
   "outputs": [],
   "source": []
  },
  {
   "cell_type": "code",
   "execution_count": null,
   "id": "5da08ffe",
   "metadata": {},
   "outputs": [],
   "source": []
  },
  {
   "cell_type": "code",
   "execution_count": null,
   "id": "c08c9969",
   "metadata": {},
   "outputs": [],
   "source": []
  }
 ],
 "metadata": {
  "kernelspec": {
   "display_name": "Python 3 (ipykernel)",
   "language": "python",
   "name": "python3"
  },
  "language_info": {
   "codemirror_mode": {
    "name": "ipython",
    "version": 3
   },
   "file_extension": ".py",
   "mimetype": "text/x-python",
   "name": "python",
   "nbconvert_exporter": "python",
   "pygments_lexer": "ipython3",
   "version": "3.9.12"
  }
 },
 "nbformat": 4,
 "nbformat_minor": 5
}
